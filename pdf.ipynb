{
 "cells": [
  {
   "cell_type": "code",
   "execution_count": 8,
   "metadata": {},
   "outputs": [],
   "source": [
    "''' Separador de pdf\n",
    "\n",
    "Con este código se puede separar un pdf en varios documentos pdf\n",
    "'''\n",
    "from PyPDF2 import PdfReader, PdfWriter\n",
    "\n",
    "pdf_reader = PdfReader(\"ACTIVOS FIJOS SOLPED COMPRAS 04.06.24.pdf\")\n",
    "pdf_reader\n",
    "\n",
    "for index, page in enumerate(pdf_reader.pages):\n",
    "    pdfwriter = PdfWriter()\n",
    "    pdfwriter.add_page(page)\n",
    "    with open(f'page_{index+1}.pdf', 'wb') as out:\n",
    "        pdfwriter.write(out)"
   ]
  }
 ],
 "metadata": {
  "kernelspec": {
   "display_name": "base",
   "language": "python",
   "name": "python3"
  },
  "language_info": {
   "codemirror_mode": {
    "name": "ipython",
    "version": 3
   },
   "file_extension": ".py",
   "mimetype": "text/x-python",
   "name": "python",
   "nbconvert_exporter": "python",
   "pygments_lexer": "ipython3",
   "version": "3.8.8"
  }
 },
 "nbformat": 4,
 "nbformat_minor": 2
}
